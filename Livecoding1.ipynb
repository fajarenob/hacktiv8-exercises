{
  "nbformat": 4,
  "nbformat_minor": 0,
  "metadata": {
    "colab": {
      "name": "Untitled6.ipynb",
      "provenance": [],
      "collapsed_sections": [],
      "authorship_tag": "ABX9TyOasbH+63ejJlEmoHcGl4VY",
      "include_colab_link": true
    },
    "kernelspec": {
      "name": "python3",
      "display_name": "Python 3"
    },
    "language_info": {
      "name": "python"
    }
  },
  "cells": [
    {
      "cell_type": "markdown",
      "metadata": {
        "id": "view-in-github",
        "colab_type": "text"
      },
      "source": [
        "<a href=\"https://colab.research.google.com/github/fajarenob/hacktiv8-exercises/blob/main/Livecoding1.ipynb\" target=\"_parent\"><img src=\"https://colab.research.google.com/assets/colab-badge.svg\" alt=\"Open In Colab\"/></a>"
      ]
    },
    {
      "cell_type": "markdown",
      "metadata": {
        "id": "sCr8nCMxmQl9"
      },
      "source": [
        "##Import Loading"
      ]
    },
    {
      "cell_type": "code",
      "metadata": {
        "id": "P5QRuFXdemwL"
      },
      "source": [
        "import numpy as np\n",
        "import pandas as pd"
      ],
      "execution_count": 1,
      "outputs": []
    },
    {
      "cell_type": "markdown",
      "metadata": {
        "id": "rXzpd6xoijGY"
      },
      "source": [
        "##Fungsi Perhitungan Hambatan dan Daya"
      ]
    },
    {
      "cell_type": "code",
      "metadata": {
        "id": "pVC6suvPhQMC"
      },
      "source": [
        "def hambatan_dan_daya(mode, V, I):\n",
        "  if mode == \"hambatan\":\n",
        "    hambatan = V / I\n",
        "  else:\n",
        "    daya = V * I\n",
        "  return hambatan_dan_daya"
      ],
      "execution_count": 143,
      "outputs": []
    },
    {
      "cell_type": "markdown",
      "metadata": {
        "id": "JJLEnwalkOd7"
      },
      "source": [
        "##Pembuatan Kolom Baru"
      ]
    },
    {
      "cell_type": "code",
      "metadata": {
        "colab": {
          "base_uri": "https://localhost:8080/",
          "height": 423
        },
        "id": "lAu21Ltw4eDc",
        "outputId": "aa9a21d4-59e8-4740-b51e-fbee84d10344"
      },
      "source": [
        "data = pd.read_excel('NMC1-9.xlsx')\n",
        "data"
      ],
      "execution_count": 115,
      "outputs": [
        {
          "output_type": "execute_result",
          "data": {
            "text/html": [
              "<div>\n",
              "<style scoped>\n",
              "    .dataframe tbody tr th:only-of-type {\n",
              "        vertical-align: middle;\n",
              "    }\n",
              "\n",
              "    .dataframe tbody tr th {\n",
              "        vertical-align: top;\n",
              "    }\n",
              "\n",
              "    .dataframe thead th {\n",
              "        text-align: right;\n",
              "    }\n",
              "</style>\n",
              "<table border=\"1\" class=\"dataframe\">\n",
              "  <thead>\n",
              "    <tr style=\"text-align: right;\">\n",
              "      <th></th>\n",
              "      <th>time(s)</th>\n",
              "      <th>V_m</th>\n",
              "      <th>Current (A)</th>\n",
              "      <th>Cycle</th>\n",
              "      <th>Cap</th>\n",
              "    </tr>\n",
              "  </thead>\n",
              "  <tbody>\n",
              "    <tr>\n",
              "      <th>0</th>\n",
              "      <td>0</td>\n",
              "      <td>4.098</td>\n",
              "      <td>0.997</td>\n",
              "      <td>1</td>\n",
              "      <td>2.840817</td>\n",
              "    </tr>\n",
              "    <tr>\n",
              "      <th>1</th>\n",
              "      <td>1</td>\n",
              "      <td>4.096</td>\n",
              "      <td>0.998</td>\n",
              "      <td>1</td>\n",
              "      <td>2.840817</td>\n",
              "    </tr>\n",
              "    <tr>\n",
              "      <th>2</th>\n",
              "      <td>2</td>\n",
              "      <td>4.094</td>\n",
              "      <td>0.999</td>\n",
              "      <td>1</td>\n",
              "      <td>2.840817</td>\n",
              "    </tr>\n",
              "    <tr>\n",
              "      <th>3</th>\n",
              "      <td>3</td>\n",
              "      <td>4.093</td>\n",
              "      <td>0.998</td>\n",
              "      <td>1</td>\n",
              "      <td>2.840817</td>\n",
              "    </tr>\n",
              "    <tr>\n",
              "      <th>4</th>\n",
              "      <td>4</td>\n",
              "      <td>4.092</td>\n",
              "      <td>0.999</td>\n",
              "      <td>1</td>\n",
              "      <td>2.840817</td>\n",
              "    </tr>\n",
              "    <tr>\n",
              "      <th>...</th>\n",
              "      <td>...</td>\n",
              "      <td>...</td>\n",
              "      <td>...</td>\n",
              "      <td>...</td>\n",
              "      <td>...</td>\n",
              "    </tr>\n",
              "    <tr>\n",
              "      <th>90977</th>\n",
              "      <td>90977</td>\n",
              "      <td>2.506</td>\n",
              "      <td>1.002</td>\n",
              "      <td>9</td>\n",
              "      <td>2.770180</td>\n",
              "    </tr>\n",
              "    <tr>\n",
              "      <th>90978</th>\n",
              "      <td>90978</td>\n",
              "      <td>2.504</td>\n",
              "      <td>1.002</td>\n",
              "      <td>9</td>\n",
              "      <td>2.770180</td>\n",
              "    </tr>\n",
              "    <tr>\n",
              "      <th>90979</th>\n",
              "      <td>90979</td>\n",
              "      <td>2.502</td>\n",
              "      <td>1.002</td>\n",
              "      <td>9</td>\n",
              "      <td>2.770180</td>\n",
              "    </tr>\n",
              "    <tr>\n",
              "      <th>90980</th>\n",
              "      <td>90980</td>\n",
              "      <td>2.500</td>\n",
              "      <td>1.002</td>\n",
              "      <td>9</td>\n",
              "      <td>2.770180</td>\n",
              "    </tr>\n",
              "    <tr>\n",
              "      <th>90981</th>\n",
              "      <td>90981</td>\n",
              "      <td>2.497</td>\n",
              "      <td>1.002</td>\n",
              "      <td>9</td>\n",
              "      <td>2.770180</td>\n",
              "    </tr>\n",
              "  </tbody>\n",
              "</table>\n",
              "<p>90982 rows × 5 columns</p>\n",
              "</div>"
            ],
            "text/plain": [
              "       time(s)    V_m  Current (A)  Cycle       Cap\n",
              "0            0  4.098        0.997      1  2.840817\n",
              "1            1  4.096        0.998      1  2.840817\n",
              "2            2  4.094        0.999      1  2.840817\n",
              "3            3  4.093        0.998      1  2.840817\n",
              "4            4  4.092        0.999      1  2.840817\n",
              "...        ...    ...          ...    ...       ...\n",
              "90977    90977  2.506        1.002      9  2.770180\n",
              "90978    90978  2.504        1.002      9  2.770180\n",
              "90979    90979  2.502        1.002      9  2.770180\n",
              "90980    90980  2.500        1.002      9  2.770180\n",
              "90981    90981  2.497        1.002      9  2.770180\n",
              "\n",
              "[90982 rows x 5 columns]"
            ]
          },
          "metadata": {},
          "execution_count": 115
        }
      ]
    },
    {
      "cell_type": "code",
      "metadata": {
        "id": "msDvKd1Q7TVY"
      },
      "source": [
        "data1 = data.copy()"
      ],
      "execution_count": 122,
      "outputs": []
    },
    {
      "cell_type": "code",
      "metadata": {
        "colab": {
          "base_uri": "https://localhost:8080/",
          "height": 423
        },
        "id": "0ZEJhCWc7WGB",
        "outputId": "71a9c4cb-c975-403e-a302-d2de479aaf97"
      },
      "source": [
        "data1"
      ],
      "execution_count": 123,
      "outputs": [
        {
          "output_type": "execute_result",
          "data": {
            "text/html": [
              "<div>\n",
              "<style scoped>\n",
              "    .dataframe tbody tr th:only-of-type {\n",
              "        vertical-align: middle;\n",
              "    }\n",
              "\n",
              "    .dataframe tbody tr th {\n",
              "        vertical-align: top;\n",
              "    }\n",
              "\n",
              "    .dataframe thead th {\n",
              "        text-align: right;\n",
              "    }\n",
              "</style>\n",
              "<table border=\"1\" class=\"dataframe\">\n",
              "  <thead>\n",
              "    <tr style=\"text-align: right;\">\n",
              "      <th></th>\n",
              "      <th>time(s)</th>\n",
              "      <th>V_m</th>\n",
              "      <th>Current (A)</th>\n",
              "      <th>Cycle</th>\n",
              "      <th>Cap</th>\n",
              "    </tr>\n",
              "  </thead>\n",
              "  <tbody>\n",
              "    <tr>\n",
              "      <th>0</th>\n",
              "      <td>0</td>\n",
              "      <td>4.098</td>\n",
              "      <td>0.997</td>\n",
              "      <td>1</td>\n",
              "      <td>2.840817</td>\n",
              "    </tr>\n",
              "    <tr>\n",
              "      <th>1</th>\n",
              "      <td>1</td>\n",
              "      <td>4.096</td>\n",
              "      <td>0.998</td>\n",
              "      <td>1</td>\n",
              "      <td>2.840817</td>\n",
              "    </tr>\n",
              "    <tr>\n",
              "      <th>2</th>\n",
              "      <td>2</td>\n",
              "      <td>4.094</td>\n",
              "      <td>0.999</td>\n",
              "      <td>1</td>\n",
              "      <td>2.840817</td>\n",
              "    </tr>\n",
              "    <tr>\n",
              "      <th>3</th>\n",
              "      <td>3</td>\n",
              "      <td>4.093</td>\n",
              "      <td>0.998</td>\n",
              "      <td>1</td>\n",
              "      <td>2.840817</td>\n",
              "    </tr>\n",
              "    <tr>\n",
              "      <th>4</th>\n",
              "      <td>4</td>\n",
              "      <td>4.092</td>\n",
              "      <td>0.999</td>\n",
              "      <td>1</td>\n",
              "      <td>2.840817</td>\n",
              "    </tr>\n",
              "    <tr>\n",
              "      <th>...</th>\n",
              "      <td>...</td>\n",
              "      <td>...</td>\n",
              "      <td>...</td>\n",
              "      <td>...</td>\n",
              "      <td>...</td>\n",
              "    </tr>\n",
              "    <tr>\n",
              "      <th>90977</th>\n",
              "      <td>90977</td>\n",
              "      <td>2.506</td>\n",
              "      <td>1.002</td>\n",
              "      <td>9</td>\n",
              "      <td>2.770180</td>\n",
              "    </tr>\n",
              "    <tr>\n",
              "      <th>90978</th>\n",
              "      <td>90978</td>\n",
              "      <td>2.504</td>\n",
              "      <td>1.002</td>\n",
              "      <td>9</td>\n",
              "      <td>2.770180</td>\n",
              "    </tr>\n",
              "    <tr>\n",
              "      <th>90979</th>\n",
              "      <td>90979</td>\n",
              "      <td>2.502</td>\n",
              "      <td>1.002</td>\n",
              "      <td>9</td>\n",
              "      <td>2.770180</td>\n",
              "    </tr>\n",
              "    <tr>\n",
              "      <th>90980</th>\n",
              "      <td>90980</td>\n",
              "      <td>2.500</td>\n",
              "      <td>1.002</td>\n",
              "      <td>9</td>\n",
              "      <td>2.770180</td>\n",
              "    </tr>\n",
              "    <tr>\n",
              "      <th>90981</th>\n",
              "      <td>90981</td>\n",
              "      <td>2.497</td>\n",
              "      <td>1.002</td>\n",
              "      <td>9</td>\n",
              "      <td>2.770180</td>\n",
              "    </tr>\n",
              "  </tbody>\n",
              "</table>\n",
              "<p>90982 rows × 5 columns</p>\n",
              "</div>"
            ],
            "text/plain": [
              "       time(s)    V_m  Current (A)  Cycle       Cap\n",
              "0            0  4.098        0.997      1  2.840817\n",
              "1            1  4.096        0.998      1  2.840817\n",
              "2            2  4.094        0.999      1  2.840817\n",
              "3            3  4.093        0.998      1  2.840817\n",
              "4            4  4.092        0.999      1  2.840817\n",
              "...        ...    ...          ...    ...       ...\n",
              "90977    90977  2.506        1.002      9  2.770180\n",
              "90978    90978  2.504        1.002      9  2.770180\n",
              "90979    90979  2.502        1.002      9  2.770180\n",
              "90980    90980  2.500        1.002      9  2.770180\n",
              "90981    90981  2.497        1.002      9  2.770180\n",
              "\n",
              "[90982 rows x 5 columns]"
            ]
          },
          "metadata": {},
          "execution_count": 123
        }
      ]
    },
    {
      "cell_type": "code",
      "metadata": {
        "colab": {
          "base_uri": "https://localhost:8080/",
          "height": 206
        },
        "id": "2rrZGGSh4veC",
        "outputId": "de3f46b1-3dbf-49ee-92c6-780020c437c8"
      },
      "source": [
        "rename_data1 = data1.rename(\n",
        "    columns={'time(s)':'t','V_m':'V','Current (A)':'I'}\n",
        ")\n",
        "rename_data1.head()"
      ],
      "execution_count": 124,
      "outputs": [
        {
          "output_type": "execute_result",
          "data": {
            "text/html": [
              "<div>\n",
              "<style scoped>\n",
              "    .dataframe tbody tr th:only-of-type {\n",
              "        vertical-align: middle;\n",
              "    }\n",
              "\n",
              "    .dataframe tbody tr th {\n",
              "        vertical-align: top;\n",
              "    }\n",
              "\n",
              "    .dataframe thead th {\n",
              "        text-align: right;\n",
              "    }\n",
              "</style>\n",
              "<table border=\"1\" class=\"dataframe\">\n",
              "  <thead>\n",
              "    <tr style=\"text-align: right;\">\n",
              "      <th></th>\n",
              "      <th>t</th>\n",
              "      <th>V</th>\n",
              "      <th>I</th>\n",
              "      <th>Cycle</th>\n",
              "      <th>Cap</th>\n",
              "    </tr>\n",
              "  </thead>\n",
              "  <tbody>\n",
              "    <tr>\n",
              "      <th>0</th>\n",
              "      <td>0</td>\n",
              "      <td>4.098</td>\n",
              "      <td>0.997</td>\n",
              "      <td>1</td>\n",
              "      <td>2.840817</td>\n",
              "    </tr>\n",
              "    <tr>\n",
              "      <th>1</th>\n",
              "      <td>1</td>\n",
              "      <td>4.096</td>\n",
              "      <td>0.998</td>\n",
              "      <td>1</td>\n",
              "      <td>2.840817</td>\n",
              "    </tr>\n",
              "    <tr>\n",
              "      <th>2</th>\n",
              "      <td>2</td>\n",
              "      <td>4.094</td>\n",
              "      <td>0.999</td>\n",
              "      <td>1</td>\n",
              "      <td>2.840817</td>\n",
              "    </tr>\n",
              "    <tr>\n",
              "      <th>3</th>\n",
              "      <td>3</td>\n",
              "      <td>4.093</td>\n",
              "      <td>0.998</td>\n",
              "      <td>1</td>\n",
              "      <td>2.840817</td>\n",
              "    </tr>\n",
              "    <tr>\n",
              "      <th>4</th>\n",
              "      <td>4</td>\n",
              "      <td>4.092</td>\n",
              "      <td>0.999</td>\n",
              "      <td>1</td>\n",
              "      <td>2.840817</td>\n",
              "    </tr>\n",
              "  </tbody>\n",
              "</table>\n",
              "</div>"
            ],
            "text/plain": [
              "   t      V      I  Cycle       Cap\n",
              "0  0  4.098  0.997      1  2.840817\n",
              "1  1  4.096  0.998      1  2.840817\n",
              "2  2  4.094  0.999      1  2.840817\n",
              "3  3  4.093  0.998      1  2.840817\n",
              "4  4  4.092  0.999      1  2.840817"
            ]
          },
          "metadata": {},
          "execution_count": 124
        }
      ]
    }
  ]
}